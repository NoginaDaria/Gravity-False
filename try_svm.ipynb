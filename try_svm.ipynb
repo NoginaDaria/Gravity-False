{
 "cells": [
  {
   "cell_type": "code",
   "execution_count": 11,
   "metadata": {},
   "outputs": [],
   "source": [
    "from tqdm import tqdm_notebook\n",
    "import pandas as pd\n",
    "import numpy as np\n",
    "import seaborn as sns"
   ]
  },
  {
   "cell_type": "code",
   "execution_count": 2,
   "metadata": {},
   "outputs": [
    {
     "name": "stdout",
     "output_type": "stream",
     "text": [
      "CPU times: user 5.95 s, sys: 2.82 s, total: 8.77 s\n",
      "Wall time: 12.2 s\n"
     ]
    }
   ],
   "source": [
    "%%time\n",
    "import pickle\n",
    "with open('page_dict.p', 'rb') as fp:\n",
    "    page_dict = pickle.load(fp)"
   ]
  },
  {
   "cell_type": "code",
   "execution_count": 3,
   "metadata": {},
   "outputs": [],
   "source": [
    "from sklearn.feature_extraction.text import TfidfVectorizer"
   ]
  },
  {
   "cell_type": "code",
   "execution_count": 4,
   "metadata": {},
   "outputs": [],
   "source": [
    "train_data = pd.read_csv('./anomaly-detection-competition-ml1-ts-spring-2020/train_groups.csv')"
   ]
  },
  {
   "cell_type": "code",
   "execution_count": 5,
   "metadata": {},
   "outputs": [],
   "source": [
    "test_data = pd.read_csv('./anomaly-detection-competition-ml1-ts-spring-2020/test_groups.csv')"
   ]
  },
  {
   "cell_type": "code",
   "execution_count": 6,
   "metadata": {
    "scrolled": true
   },
   "outputs": [
    {
     "data": {
      "application/vnd.jupyter.widget-view+json": {
       "model_id": "3f18803f14354dbbb7bc672878611930",
       "version_major": 2,
       "version_minor": 0
      },
      "text/plain": [
       "HBox(children=(IntProgress(value=0, max=129), HTML(value='')))"
      ]
     },
     "metadata": {},
     "output_type": "display_data"
    },
    {
     "name": "stdout",
     "output_type": "stream",
     "text": [
      "(102, 300)\n",
      "(94, 300)\n",
      "(98, 300)\n",
      "(88, 300)\n",
      "(108, 300)\n",
      "(71, 300)\n",
      "(96, 300)\n",
      "(91, 300)\n",
      "(31, 300)\n",
      "(97, 300)\n",
      "(98, 300)\n",
      "(65, 300)\n",
      "(31, 300)\n",
      "(92, 300)\n",
      "(101, 300)\n",
      "(94, 300)\n",
      "(102, 300)\n",
      "(89, 300)\n",
      "(90, 300)\n",
      "(95, 300)\n",
      "(100, 300)\n",
      "(87, 300)\n",
      "(93, 300)\n",
      "(102, 300)\n",
      "(84, 300)\n",
      "(79, 300)\n",
      "(100, 300)\n",
      "(91, 300)\n",
      "(99, 300)\n",
      "(104, 300)\n",
      "(95, 300)\n",
      "(105, 300)\n",
      "(93, 300)\n",
      "(98, 300)\n",
      "(99, 300)\n",
      "(103, 300)\n",
      "(58, 300)\n",
      "(104, 300)\n",
      "(99, 300)\n",
      "(98, 300)\n",
      "(65, 300)\n",
      "(103, 300)\n",
      "(93, 300)\n",
      "(88, 300)\n",
      "(83, 300)\n",
      "(97, 300)\n",
      "(94, 300)\n",
      "(55, 300)\n",
      "(100, 300)\n",
      "(88, 300)\n",
      "(100, 300)\n",
      "(99, 300)\n",
      "(26, 300)\n",
      "(100, 300)\n",
      "(95, 300)\n",
      "(92, 300)\n",
      "(88, 300)\n",
      "(98, 300)\n",
      "(103, 300)\n",
      "(81, 300)\n",
      "(93, 300)\n",
      "(105, 300)\n",
      "(86, 300)\n",
      "(96, 300)\n",
      "(92, 300)\n",
      "(91, 300)\n",
      "(92, 300)\n",
      "(104, 300)\n",
      "(104, 300)\n",
      "(102, 300)\n",
      "(90, 300)\n",
      "(83, 300)\n",
      "(102, 300)\n",
      "(102, 300)\n",
      "(104, 300)\n",
      "(49, 300)\n",
      "(100, 300)\n",
      "(96, 300)\n",
      "(100, 300)\n",
      "(58, 300)\n",
      "(100, 300)\n",
      "(95, 300)\n",
      "(52, 300)\n",
      "(103, 300)\n",
      "(102, 300)\n",
      "(101, 300)\n",
      "(67, 300)\n",
      "(43, 300)\n",
      "(90, 300)\n",
      "(100, 300)\n",
      "(47, 300)\n",
      "(102, 300)\n",
      "(104, 300)\n",
      "(103, 300)\n",
      "(99, 300)\n",
      "(97, 300)\n",
      "(94, 300)\n",
      "(100, 300)\n",
      "(103, 300)\n",
      "(77, 300)\n",
      "(101, 300)\n",
      "(106, 300)\n",
      "(102, 300)\n",
      "(104, 300)\n",
      "(88, 300)\n",
      "(101, 300)\n",
      "(93, 300)\n",
      "(95, 300)\n",
      "(107, 300)\n",
      "(103, 300)\n",
      "(100, 300)\n",
      "(105, 300)\n",
      "(105, 300)\n",
      "(81, 300)\n",
      "(61, 300)\n",
      "(93, 300)\n",
      "(107, 300)\n",
      "(94, 300)\n",
      "(77, 300)\n",
      "(40, 300)\n",
      "(99, 300)\n",
      "(94, 300)\n",
      "(88, 300)\n",
      "(107, 300)\n",
      "(94, 300)\n",
      "(103, 300)\n",
      "(101, 300)\n",
      "(50, 300)\n",
      "(91, 300)\n",
      "\n"
     ]
    }
   ],
   "source": [
    "all_vectors = []\n",
    "for group in tqdm_notebook(train_data.group_id.unique()):\n",
    "    texts = []\n",
    "    for i in train_data[train_data['group_id'] == group].doc_id:\n",
    "        texts.append(page_dict.get(i))\n",
    "    vectorizer = TfidfVectorizer(max_features=300)\n",
    "    vectors = vectorizer.fit_transform(texts)\n",
    "    print(vectors.shape)\n",
    "    all_vectors.append(vectors)"
   ]
  },
  {
   "cell_type": "code",
   "execution_count": 7,
   "metadata": {},
   "outputs": [],
   "source": [
    "from sklearn.svm import OneClassSVM\n",
    "from sklearn.metrics import f1_score"
   ]
  },
  {
   "cell_type": "code",
   "execution_count": 8,
   "metadata": {},
   "outputs": [],
   "source": [
    "d = dict(zip(train_data.group_id.unique(), all_vectors))"
   ]
  },
  {
   "cell_type": "code",
   "execution_count": 9,
   "metadata": {},
   "outputs": [
    {
     "data": {
      "application/vnd.jupyter.widget-view+json": {
       "model_id": "51cef5a81f5542e787c48de53c247782",
       "version_major": 2,
       "version_minor": 0
      },
      "text/plain": [
       "HBox(children=(IntProgress(value=0, max=129), HTML(value='')))"
      ]
     },
     "metadata": {},
     "output_type": "display_data"
    },
    {
     "name": "stdout",
     "output_type": "stream",
     "text": [
      "\n"
     ]
    }
   ],
   "source": [
    "scores = []\n",
    "for group in tqdm_notebook(train_data.group_id.unique()):\n",
    "    X = d.get(group)\n",
    "    y_pred = OneClassSVM(gamma='scale', kernel='poly', nu=0.9).fit_predict(X)\n",
    "    y = np.array(train_data[train_data['group_id'] == group]['target'])\n",
    "    y[np.where(y == 0)] = 1\n",
    "    y[np.where(y == 1)] = -1\n",
    "    s = f1_score(y, y_pred, pos_label=-1)\n",
    "    scores.append(s)"
   ]
  },
  {
   "cell_type": "code",
   "execution_count": 12,
   "metadata": {},
   "outputs": [
    {
     "data": {
      "text/plain": [
       "<matplotlib.axes._subplots.AxesSubplot at 0x1b182050b8>"
      ]
     },
     "execution_count": 12,
     "metadata": {},
     "output_type": "execute_result"
    },
    {
     "data": {
      "image/png": "[encoded data removed]",
      "text/plain": [
       "<Figure size 432x288 with 1 Axes>"
      ]
     },
     "metadata": {
      "needs_background": "light"
     },
     "output_type": "display_data"
    }
   ],
   "source": [
    "sns.distplot(scores)"
   ]
  },
  {
   "cell_type": "code",
   "execution_count": 13,
   "metadata": {
    "scrolled": true
   },
   "outputs": [
    {
     "data": {
      "application/vnd.jupyter.widget-view+json": {
       "model_id": "abd6876ee9df441a96e2d78e2403e877",
       "version_major": 2,
       "version_minor": 0
      },
      "text/plain": [
       "HBox(children=(IntProgress(value=0, max=180), HTML(value='')))"
      ]
     },
     "metadata": {},
     "output_type": "display_data"
    },
    {
     "name": "stdout",
     "output_type": "stream",
     "text": [
      "(98, 300)\n",
      "(103, 300)\n",
      "(89, 300)\n",
      "(103, 300)\n",
      "(95, 300)\n",
      "(97, 300)\n",
      "(95, 300)\n",
      "(99, 300)\n",
      "(86, 300)\n",
      "(92, 300)\n",
      "(97, 300)\n",
      "(105, 300)\n",
      "(90, 300)\n",
      "(92, 300)\n",
      "(82, 300)\n",
      "(110, 300)\n",
      "(47, 300)\n",
      "(81, 300)\n",
      "(100, 300)\n",
      "(105, 300)\n",
      "(98, 300)\n",
      "(91, 300)\n",
      "(108, 300)\n",
      "(88, 300)\n",
      "(89, 300)\n",
      "(99, 300)\n",
      "(96, 300)\n",
      "(79, 300)\n",
      "(101, 300)\n",
      "(72, 300)\n",
      "(93, 300)\n",
      "(86, 300)\n",
      "(95, 300)\n",
      "(99, 300)\n",
      "(101, 300)\n",
      "(105, 300)\n",
      "(100, 300)\n",
      "(91, 300)\n",
      "(99, 300)\n",
      "(101, 300)\n",
      "(93, 300)\n",
      "(80, 300)\n",
      "(99, 300)\n",
      "(102, 300)\n",
      "(88, 300)\n",
      "(93, 300)\n",
      "(103, 300)\n",
      "(99, 300)\n",
      "(85, 300)\n",
      "(100, 300)\n",
      "(86, 300)\n",
      "(98, 300)\n",
      "(108, 300)\n",
      "(96, 300)\n",
      "(52, 300)\n",
      "(97, 300)\n",
      "(99, 300)\n",
      "(105, 300)\n",
      "(102, 300)\n",
      "(102, 300)\n",
      "(71, 300)\n",
      "(103, 300)\n",
      "(99, 300)\n",
      "(88, 300)\n",
      "(98, 300)\n",
      "(98, 300)\n",
      "(97, 300)\n",
      "(106, 300)\n",
      "(101, 300)\n",
      "(91, 300)\n",
      "(98, 300)\n",
      "(97, 300)\n",
      "(71, 300)\n",
      "(104, 300)\n",
      "(95, 300)\n",
      "(57, 300)\n",
      "(98, 300)\n",
      "(99, 300)\n",
      "(104, 300)\n",
      "(92, 300)\n",
      "(95, 300)\n",
      "(72, 300)\n",
      "(92, 300)\n",
      "(100, 300)\n",
      "(88, 300)\n",
      "(75, 300)\n",
      "(101, 300)\n",
      "(100, 300)\n",
      "(95, 300)\n",
      "(80, 300)\n",
      "(103, 300)\n",
      "(101, 300)\n",
      "(98, 300)\n",
      "(100, 300)\n",
      "(101, 300)\n",
      "(28, 300)\n",
      "(100, 300)\n",
      "(91, 300)\n",
      "(99, 300)\n",
      "(90, 300)\n",
      "(93, 300)\n",
      "(89, 300)\n",
      "(98, 300)\n",
      "(104, 300)\n",
      "(107, 300)\n",
      "(40, 300)\n",
      "(98, 300)\n",
      "(95, 300)\n",
      "(77, 300)\n",
      "(35, 300)\n",
      "(86, 300)\n",
      "(104, 300)\n",
      "(106, 300)\n",
      "(97, 300)\n",
      "(120, 300)\n",
      "(94, 300)\n",
      "(98, 300)\n",
      "(91, 300)\n",
      "(100, 300)\n",
      "(94, 300)\n",
      "(97, 300)\n",
      "(91, 300)\n",
      "(88, 300)\n",
      "(93, 300)\n",
      "(33, 300)\n",
      "(90, 300)\n",
      "(79, 300)\n",
      "(80, 300)\n",
      "(93, 300)\n",
      "(101, 300)\n",
      "(69, 300)\n",
      "(82, 300)\n",
      "(103, 300)\n",
      "(101, 300)\n",
      "(108, 300)\n",
      "(96, 300)\n",
      "(71, 300)\n",
      "(83, 300)\n",
      "(91, 300)\n",
      "(102, 300)\n",
      "(100, 300)\n",
      "(106, 300)\n",
      "(88, 300)\n",
      "(103, 300)\n",
      "(101, 300)\n",
      "(77, 300)\n",
      "(98, 300)\n",
      "(99, 300)\n",
      "(103, 300)\n",
      "(86, 300)\n",
      "(105, 300)\n",
      "(98, 300)\n",
      "(101, 300)\n",
      "(108, 300)\n",
      "(104, 300)\n",
      "(60, 300)\n",
      "(97, 300)\n",
      "(99, 300)\n",
      "(106, 300)\n",
      "(109, 300)\n",
      "(105, 300)\n",
      "(89, 300)\n",
      "(83, 300)\n",
      "(52, 300)\n",
      "(91, 300)\n",
      "(93, 300)\n",
      "(88, 300)\n",
      "(66, 300)\n",
      "(98, 300)\n",
      "(108, 300)\n",
      "(100, 300)\n",
      "(62, 300)\n",
      "(95, 300)\n",
      "(88, 300)\n",
      "(79, 300)\n",
      "(100, 300)\n",
      "(106, 300)\n",
      "(104, 300)\n",
      "(102, 300)\n",
      "(73, 300)\n",
      "\n"
     ]
    }
   ],
   "source": [
    "all_vectors = []\n",
    "for group in tqdm_notebook(test_data.group_id.unique()):\n",
    "    texts = []\n",
    "    for i in test_data[test_data['group_id'] == group].doc_id:\n",
    "        texts.append(page_dict.get(i))\n",
    "    vectorizer = TfidfVectorizer(max_features=300)\n",
    "    vectors = vectorizer.fit_transform(texts)\n",
    "    print(vectors.shape)\n",
    "    all_vectors.append(vectors)"
   ]
  },
  {
   "cell_type": "code",
   "execution_count": 14,
   "metadata": {},
   "outputs": [],
   "source": [
    "d = dict(zip(test_data.group_id.unique(), all_vectors))"
   ]
  },
  {
   "cell_type": "code",
   "execution_count": 15,
   "metadata": {},
   "outputs": [
    {
     "data": {
      "application/vnd.jupyter.widget-view+json": {
       "model_id": "f7bc6a2d585d4ab0ad98ff781811f107",
       "version_major": 2,
       "version_minor": 0
      },
      "text/plain": [
       "HBox(children=(IntProgress(value=0, max=180), HTML(value='')))"
      ]
     },
     "metadata": {},
     "output_type": "display_data"
    },
    {
     "name": "stdout",
     "output_type": "stream",
     "text": [
      "\n"
     ]
    }
   ],
   "source": [
    "predictions = {}\n",
    "for group in tqdm_notebook(test_data.group_id.unique()):\n",
    "    X = d.get(group)\n",
    "    y_pred = OneClassSVM(gamma='scale', kernel='poly', nu=0.9).fit_predict(X)\n",
    "    y_pred[np.where(y_pred == 1)] = 0\n",
    "    y_pred[np.where(y_pred == -1)] = 1\n",
    "    predictions[group] = y_pred"
   ]
  },
  {
   "cell_type": "code",
   "execution_count": 16,
   "metadata": {},
   "outputs": [],
   "source": [
    "test_data['target'] = None"
   ]
  },
  {
   "cell_type": "code",
   "execution_count": 17,
   "metadata": {},
   "outputs": [],
   "source": [
    "for group in test_data.group_id.unique():\n",
    "    test_data.loc[test_data['group_id'] == group, 'target'] = predictions.get(group)"
   ]
  },
  {
   "cell_type": "code",
   "execution_count": 18,
   "metadata": {},
   "outputs": [],
   "source": [
    "test_data[['pair_id', 'target']].to_csv('try_SVM.csv', index=None)"
   ]
  },
  {
   "cell_type": "code",
   "execution_count": null,
   "metadata": {},
   "outputs": [],
   "source": []
  }
 ],
 "metadata": {
  "kernelspec": {
   "display_name": "Python 3",
   "language": "python",
   "name": "python3"
  },
  "language_info": {
   "codemirror_mode": {
    "name": "ipython",
    "version": 3
   },
   "file_extension": ".py",
   "mimetype": "text/x-python",
   "name": "python",
   "nbconvert_exporter": "python",
   "pygments_lexer": "ipython3",
   "version": "3.7.3"
  }
 },
 "nbformat": 4,
 "nbformat_minor": 2
}
