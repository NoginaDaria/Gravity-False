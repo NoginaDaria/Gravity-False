{
 "cells": [
  {
   "cell_type": "code",
   "execution_count": 19,
   "metadata": {},
   "outputs": [],
   "source": [
    "from tqdm import tqdm_notebook\n",
    "import pandas as pd\n",
    "import numpy as np\n",
    "import seaborn as sns"
   ]
  },
  {
   "cell_type": "code",
   "execution_count": 20,
   "metadata": {},
   "outputs": [
    {
     "name": "stdout",
     "output_type": "stream",
     "text": [
      "CPU times: user 5.86 s, sys: 3.85 s, total: 9.71 s\n",
      "Wall time: 12 s\n"
     ]
    }
   ],
   "source": [
    "%%time\n",
    "import pickle\n",
    "with open('page_dict.p', 'rb') as fp:\n",
    "    page_dict = pickle.load(fp)"
   ]
  },
  {
   "cell_type": "code",
   "execution_count": 21,
   "metadata": {},
   "outputs": [],
   "source": [
    "from sklearn.feature_extraction.text import TfidfVectorizer"
   ]
  },
  {
   "cell_type": "code",
   "execution_count": 22,
   "metadata": {},
   "outputs": [],
   "source": [
    "train_data = pd.read_csv('./anomaly-detection-competition-ml1-ts-spring-2020/train_groups.csv')"
   ]
  },
  {
   "cell_type": "code",
   "execution_count": 23,
   "metadata": {},
   "outputs": [],
   "source": [
    "test_data = pd.read_csv('./anomaly-detection-competition-ml1-ts-spring-2020/test_groups.csv')"
   ]
  },
  {
   "cell_type": "code",
   "execution_count": 63,
   "metadata": {
    "scrolled": true
   },
   "outputs": [
    {
     "data": {
      "application/vnd.jupyter.widget-view+json": {
       "model_id": "0ac7b82d68744b628fa274c6c99c9a0e",
       "version_major": 2,
       "version_minor": 0
      },
      "text/plain": [
       "HBox(children=(IntProgress(value=0, max=129), HTML(value='')))"
      ]
     },
     "metadata": {},
     "output_type": "display_data"
    },
    {
     "name": "stdout",
     "output_type": "stream",
     "text": [
      "(102, 300)\n",
      "(94, 300)\n",
      "(98, 300)\n",
      "(88, 300)\n",
      "(108, 300)\n",
      "(71, 300)\n",
      "(96, 300)\n",
      "(91, 300)\n",
      "(31, 300)\n",
      "(97, 300)\n",
      "(98, 300)\n",
      "(65, 300)\n",
      "(31, 300)\n",
      "(92, 300)\n",
      "(101, 300)\n",
      "(94, 300)\n",
      "(102, 300)\n",
      "(89, 300)\n",
      "(90, 300)\n",
      "(95, 300)\n",
      "(100, 300)\n",
      "(87, 300)\n",
      "(93, 300)\n",
      "(102, 300)\n",
      "(84, 300)\n",
      "(79, 300)\n",
      "(100, 300)\n",
      "(91, 300)\n",
      "(99, 300)\n",
      "(104, 300)\n",
      "(95, 300)\n",
      "(105, 300)\n",
      "(93, 300)\n",
      "(98, 300)\n",
      "(99, 300)\n",
      "(103, 300)\n",
      "(58, 300)\n",
      "(104, 300)\n",
      "(99, 300)\n",
      "(98, 300)\n",
      "(65, 300)\n",
      "(103, 300)\n",
      "(93, 300)\n",
      "(88, 300)\n",
      "(83, 300)\n",
      "(97, 300)\n",
      "(94, 300)\n",
      "(55, 300)\n",
      "(100, 300)\n",
      "(88, 300)\n",
      "(100, 300)\n",
      "(99, 300)\n",
      "(26, 300)\n",
      "(100, 300)\n",
      "(95, 300)\n",
      "(92, 300)\n",
      "(88, 300)\n",
      "(98, 300)\n",
      "(103, 300)\n",
      "(81, 300)\n",
      "(93, 300)\n",
      "(105, 300)\n",
      "(86, 300)\n",
      "(96, 300)\n",
      "(92, 300)\n",
      "(91, 300)\n",
      "(92, 300)\n",
      "(104, 300)\n",
      "(104, 300)\n",
      "(102, 300)\n",
      "(90, 300)\n",
      "(83, 300)\n",
      "(102, 300)\n",
      "(102, 300)\n",
      "(104, 300)\n",
      "(49, 300)\n",
      "(100, 300)\n",
      "(96, 300)\n",
      "(100, 300)\n",
      "(58, 300)\n",
      "(100, 300)\n",
      "(95, 300)\n",
      "(52, 300)\n",
      "(103, 300)\n",
      "(102, 300)\n",
      "(101, 300)\n",
      "(67, 300)\n",
      "(43, 300)\n",
      "(90, 300)\n",
      "(100, 300)\n",
      "(47, 300)\n",
      "(102, 300)\n",
      "(104, 300)\n",
      "(103, 300)\n",
      "(99, 300)\n",
      "(97, 300)\n",
      "(94, 300)\n",
      "(100, 300)\n",
      "(103, 300)\n",
      "(77, 300)\n",
      "(101, 300)\n",
      "(106, 300)\n",
      "(102, 300)\n",
      "(104, 300)\n",
      "(88, 300)\n",
      "(101, 300)\n",
      "(93, 300)\n",
      "(95, 300)\n",
      "(107, 300)\n",
      "(103, 300)\n",
      "(100, 300)\n",
      "(105, 300)\n",
      "(105, 300)\n",
      "(81, 300)\n",
      "(61, 300)\n",
      "(93, 300)\n",
      "(107, 300)\n",
      "(94, 300)\n",
      "(77, 300)\n",
      "(40, 300)\n",
      "(99, 300)\n",
      "(94, 300)\n",
      "(88, 300)\n",
      "(107, 300)\n",
      "(94, 300)\n",
      "(103, 300)\n",
      "(101, 300)\n",
      "(50, 300)\n",
      "(91, 300)\n",
      "\n"
     ]
    }
   ],
   "source": [
    "all_vectors_train = []\n",
    "for group in tqdm_notebook(train_data.group_id.unique()):\n",
    "    texts = []\n",
    "    for i in train_data[train_data['group_id'] == group].doc_id:\n",
    "        texts.append(page_dict.get(i))\n",
    "    vectorizer = TfidfVectorizer(max_features=300)\n",
    "    vectors = vectorizer.fit_transform(texts)\n",
    "    print(vectors.shape)\n",
    "    all_vectors_train.append(vectors)"
   ]
  },
  {
   "cell_type": "code",
   "execution_count": 64,
   "metadata": {},
   "outputs": [],
   "source": [
    "from sklearn.svm import OneClassSVM\n",
    "from sklearn.metrics import f1_score"
   ]
  },
  {
   "cell_type": "code",
   "execution_count": 65,
   "metadata": {},
   "outputs": [],
   "source": [
    "d_train = dict(zip(train_data.group_id.unique(), all_vectors_train))"
   ]
  },
  {
   "cell_type": "code",
   "execution_count": 69,
   "metadata": {},
   "outputs": [],
   "source": [
    "from itertools import product"
   ]
  },
  {
   "cell_type": "code",
   "execution_count": 103,
   "metadata": {},
   "outputs": [],
   "source": [
    "kernel = ['linear', 'poly', 'rbf', 'sigmoid', 'precomputed']\n",
    "gamma = ['scale', 'auto']\n",
    "tol = np.linspace(0.01,0.99,5)\n",
    "nu = np.linspace(0.01,0.99,5)"
   ]
  },
  {
   "cell_type": "code",
   "execution_count": 104,
   "metadata": {},
   "outputs": [],
   "source": [
    "parameters = list(product(kernel, tol, nu))"
   ]
  },
  {
   "cell_type": "code",
   "execution_count": 100,
   "metadata": {},
   "outputs": [
    {
     "data": {
      "text/plain": [
       "125"
      ]
     },
     "execution_count": 100,
     "metadata": {},
     "output_type": "execute_result"
    }
   ],
   "source": [
    "len(parameters)"
   ]
  },
  {
   "cell_type": "code",
   "execution_count": 108,
   "metadata": {},
   "outputs": [
    {
     "data": {
      "application/vnd.jupyter.widget-view+json": {
       "model_id": "b098567ccf474dea84e302e40905e456",
       "version_major": 2,
       "version_minor": 0
      },
      "text/plain": [
       "HBox(children=(IntProgress(value=0, max=125), HTML(value='')))"
      ]
     },
     "metadata": {},
     "output_type": "display_data"
    }
   ],
   "source": [
    "max_score = -100\n",
    "d_parameters = {}\n",
    "for pm in tqdm_notebook(parameters):\n",
    "    try:\n",
    "        scores = []\n",
    "        for group in train_data.group_id.unique():\n",
    "            X = d_train.get(group)\n",
    "            y_pred = OneClassSVM(kernel=pm[0], tol=pm[1], nu=pm[2], gamma='scale').fit_predict(X)\n",
    "            y = np.array(train_data[train_data['group_id'] == group]['target'])\n",
    "            y_pred[np.where(y_pred==1)] = 0\n",
    "            y_pred[np.where(y_pred==-1)] = 1\n",
    "            s = f1_score(y, y_pred)\n",
    "            scores.append(s)\n",
    "        tmp_score = np.mean(scores)\n",
    "        d_parameters[str(pm)] = tmp_score\n",
    "        if max_score < tmp_score:\n",
    "            max_score = tmp_score\n",
    "            best_params = pm\n",
    "    except:\n",
    "        continue"
   ]
  },
  {
   "cell_type": "code",
   "execution_count": 110,
   "metadata": {},
   "outputs": [
    {
     "data": {
      "text/plain": [
       "('sigmoid', 0.745, 0.01)"
      ]
     },
     "execution_count": 110,
     "metadata": {},
     "output_type": "execute_result"
    }
   ],
   "source": [
    "best_params"
   ]
  },
  {
   "cell_type": "code",
   "execution_count": 84,
   "metadata": {},
   "outputs": [
    {
     "data": {
      "text/plain": [
       "0.3071436056201665"
      ]
     },
     "execution_count": 84,
     "metadata": {},
     "output_type": "execute_result"
    }
   ],
   "source": [
    "np.mean(scores)"
   ]
  },
  {
   "cell_type": "code",
   "execution_count": 140,
   "metadata": {},
   "outputs": [
    {
     "data": {
      "application/vnd.jupyter.widget-view+json": {
       "model_id": "83ef06ac48524eb089131e31eee26ddb",
       "version_major": 2,
       "version_minor": 0
      },
      "text/plain": [
       "HBox(children=(IntProgress(value=0, max=129), HTML(value='')))"
      ]
     },
     "metadata": {},
     "output_type": "display_data"
    }
   ],
   "source": [
    "scores = []\n",
    "for group in tqdm_notebook(train_data.group_id.unique()):\n",
    "    X = d_train.get(group)\n",
    "    y_pred = OneClassSVM(gamma='scale', kernel='sigmoid', tol=0.745, nu = 0.01).fit_predict(X)\n",
    "    y = np.array(train_data[train_data['group_id'] == group]['target'])\n",
    "    y_pred[np.where(y_pred==1)] = 0\n",
    "    y_pred[np.where(y_pred==-1)] = 1\n",
    "    s = f1_score(y, y_pred)\n",
    "    scores.append(s)"
   ]
  },
  {
   "cell_type": "code",
   "execution_count": 141,
   "metadata": {},
   "outputs": [
    {
     "data": {
      "text/plain": [
       "0.40060357198916025"
      ]
     },
     "execution_count": 141,
     "metadata": {},
     "output_type": "execute_result"
    }
   ],
   "source": [
    "np.mean(scores)"
   ]
  },
  {
   "cell_type": "code",
   "execution_count": 142,
   "metadata": {},
   "outputs": [
    {
     "data": {
      "text/plain": [
       "<matplotlib.axes._subplots.AxesSubplot at 0x1225b7978>"
      ]
     },
     "execution_count": 142,
     "metadata": {},
     "output_type": "execute_result"
    },
    {
     "data": {
      "image/png": "[encoded data removed]",
      "text/plain": [
       "<Figure size 432x288 with 1 Axes>"
      ]
     },
     "metadata": {
      "needs_background": "light"
     },
     "output_type": "display_data"
    }
   ],
   "source": [
    "sns.distplot(scores)"
   ]
  },
  {
   "cell_type": "code",
   "execution_count": 13,
   "metadata": {
    "scrolled": true
   },
   "outputs": [
    {
     "data": {
      "application/vnd.jupyter.widget-view+json": {
       "model_id": "abd6876ee9df441a96e2d78e2403e877",
       "version_major": 2,
       "version_minor": 0
      },
      "text/plain": [
       "HBox(children=(IntProgress(value=0, max=180), HTML(value='')))"
      ]
     },
     "metadata": {},
     "output_type": "display_data"
    },
    {
     "name": "stdout",
     "output_type": "stream",
     "text": [
      "(98, 300)\n",
      "(103, 300)\n",
      "(89, 300)\n",
      "(103, 300)\n",
      "(95, 300)\n",
      "(97, 300)\n",
      "(95, 300)\n",
      "(99, 300)\n",
      "(86, 300)\n",
      "(92, 300)\n",
      "(97, 300)\n",
      "(105, 300)\n",
      "(90, 300)\n",
      "(92, 300)\n",
      "(82, 300)\n",
      "(110, 300)\n",
      "(47, 300)\n",
      "(81, 300)\n",
      "(100, 300)\n",
      "(105, 300)\n",
      "(98, 300)\n",
      "(91, 300)\n",
      "(108, 300)\n",
      "(88, 300)\n",
      "(89, 300)\n",
      "(99, 300)\n",
      "(96, 300)\n",
      "(79, 300)\n",
      "(101, 300)\n",
      "(72, 300)\n",
      "(93, 300)\n",
      "(86, 300)\n",
      "(95, 300)\n",
      "(99, 300)\n",
      "(101, 300)\n",
      "(105, 300)\n",
      "(100, 300)\n",
      "(91, 300)\n",
      "(99, 300)\n",
      "(101, 300)\n",
      "(93, 300)\n",
      "(80, 300)\n",
      "(99, 300)\n",
      "(102, 300)\n",
      "(88, 300)\n",
      "(93, 300)\n",
      "(103, 300)\n",
      "(99, 300)\n",
      "(85, 300)\n",
      "(100, 300)\n",
      "(86, 300)\n",
      "(98, 300)\n",
      "(108, 300)\n",
      "(96, 300)\n",
      "(52, 300)\n",
      "(97, 300)\n",
      "(99, 300)\n",
      "(105, 300)\n",
      "(102, 300)\n",
      "(102, 300)\n",
      "(71, 300)\n",
      "(103, 300)\n",
      "(99, 300)\n",
      "(88, 300)\n",
      "(98, 300)\n",
      "(98, 300)\n",
      "(97, 300)\n",
      "(106, 300)\n",
      "(101, 300)\n",
      "(91, 300)\n",
      "(98, 300)\n",
      "(97, 300)\n",
      "(71, 300)\n",
      "(104, 300)\n",
      "(95, 300)\n",
      "(57, 300)\n",
      "(98, 300)\n",
      "(99, 300)\n",
      "(104, 300)\n",
      "(92, 300)\n",
      "(95, 300)\n",
      "(72, 300)\n",
      "(92, 300)\n",
      "(100, 300)\n",
      "(88, 300)\n",
      "(75, 300)\n",
      "(101, 300)\n",
      "(100, 300)\n",
      "(95, 300)\n",
      "(80, 300)\n",
      "(103, 300)\n",
      "(101, 300)\n",
      "(98, 300)\n",
      "(100, 300)\n",
      "(101, 300)\n",
      "(28, 300)\n",
      "(100, 300)\n",
      "(91, 300)\n",
      "(99, 300)\n",
      "(90, 300)\n",
      "(93, 300)\n",
      "(89, 300)\n",
      "(98, 300)\n",
      "(104, 300)\n",
      "(107, 300)\n",
      "(40, 300)\n",
      "(98, 300)\n",
      "(95, 300)\n",
      "(77, 300)\n",
      "(35, 300)\n",
      "(86, 300)\n",
      "(104, 300)\n",
      "(106, 300)\n",
      "(97, 300)\n",
      "(120, 300)\n",
      "(94, 300)\n",
      "(98, 300)\n",
      "(91, 300)\n",
      "(100, 300)\n",
      "(94, 300)\n",
      "(97, 300)\n",
      "(91, 300)\n",
      "(88, 300)\n",
      "(93, 300)\n",
      "(33, 300)\n",
      "(90, 300)\n",
      "(79, 300)\n",
      "(80, 300)\n",
      "(93, 300)\n",
      "(101, 300)\n",
      "(69, 300)\n",
      "(82, 300)\n",
      "(103, 300)\n",
      "(101, 300)\n",
      "(108, 300)\n",
      "(96, 300)\n",
      "(71, 300)\n",
      "(83, 300)\n",
      "(91, 300)\n",
      "(102, 300)\n",
      "(100, 300)\n",
      "(106, 300)\n",
      "(88, 300)\n",
      "(103, 300)\n",
      "(101, 300)\n",
      "(77, 300)\n",
      "(98, 300)\n",
      "(99, 300)\n",
      "(103, 300)\n",
      "(86, 300)\n",
      "(105, 300)\n",
      "(98, 300)\n",
      "(101, 300)\n",
      "(108, 300)\n",
      "(104, 300)\n",
      "(60, 300)\n",
      "(97, 300)\n",
      "(99, 300)\n",
      "(106, 300)\n",
      "(109, 300)\n",
      "(105, 300)\n",
      "(89, 300)\n",
      "(83, 300)\n",
      "(52, 300)\n",
      "(91, 300)\n",
      "(93, 300)\n",
      "(88, 300)\n",
      "(66, 300)\n",
      "(98, 300)\n",
      "(108, 300)\n",
      "(100, 300)\n",
      "(62, 300)\n",
      "(95, 300)\n",
      "(88, 300)\n",
      "(79, 300)\n",
      "(100, 300)\n",
      "(106, 300)\n",
      "(104, 300)\n",
      "(102, 300)\n",
      "(73, 300)\n",
      "\n"
     ]
    }
   ],
   "source": [
    "all_vectors_test = []\n",
    "for group in tqdm_notebook(test_data.group_id.unique()):\n",
    "    texts = []\n",
    "    for i in test_data[test_data['group_id'] == group].doc_id:\n",
    "        texts.append(page_dict.get(i))\n",
    "    vectorizer = TfidfVectorizer(max_features=300)\n",
    "    vectors = vectorizer.fit_transform(texts)\n",
    "    print(vectors.shape)\n",
    "    all_vectors_test.append(vectors)"
   ]
  },
  {
   "cell_type": "code",
   "execution_count": 14,
   "metadata": {},
   "outputs": [],
   "source": [
    "d = dict(zip(test_data.group_id.unique(), all_vectors_test))"
   ]
  },
  {
   "cell_type": "code",
   "execution_count": 143,
   "metadata": {},
   "outputs": [
    {
     "data": {
      "application/vnd.jupyter.widget-view+json": {
       "model_id": "37584833508a4a73a306f1ba3e232902",
       "version_major": 2,
       "version_minor": 0
      },
      "text/plain": [
       "HBox(children=(IntProgress(value=0, max=180), HTML(value='')))"
      ]
     },
     "metadata": {},
     "output_type": "display_data"
    }
   ],
   "source": [
    "predictions = {}\n",
    "for group in tqdm_notebook(test_data.group_id.unique()):\n",
    "    X = d.get(group)\n",
    "    y_pred = OneClassSVM(gamma='scale', kernel='sigmoid', tol=0.745, nu = 0.01).fit_predict(X)\n",
    "    y_pred[np.where(y_pred == 1)] = 0\n",
    "    y_pred[np.where(y_pred == -1)] = 1\n",
    "    predictions[group] = y_pred"
   ]
  },
  {
   "cell_type": "code",
   "execution_count": 144,
   "metadata": {},
   "outputs": [],
   "source": [
    "test_data['target'] = None"
   ]
  },
  {
   "cell_type": "code",
   "execution_count": 145,
   "metadata": {},
   "outputs": [],
   "source": [
    "for group in test_data.group_id.unique():\n",
    "    test_data.loc[test_data['group_id'] == group, 'target'] = predictions.get(group)"
   ]
  },
  {
   "cell_type": "code",
   "execution_count": 146,
   "metadata": {},
   "outputs": [],
   "source": [
    "test_data[['pair_id', 'target']].to_csv('try_SVM.csv', index=None)"
   ]
  },
  {
   "cell_type": "code",
   "execution_count": null,
   "metadata": {},
   "outputs": [],
   "source": []
  }
 ],
 "metadata": {
  "kernelspec": {
   "display_name": "Python 3",
   "language": "python",
   "name": "python3"
  },
  "language_info": {
   "codemirror_mode": {
    "name": "ipython",
    "version": 3
   },
   "file_extension": ".py",
   "mimetype": "text/x-python",
   "name": "python",
   "nbconvert_exporter": "python",
   "pygments_lexer": "ipython3",
   "version": "3.7.3"
  }
 },
 "nbformat": 4,
 "nbformat_minor": 2
}
