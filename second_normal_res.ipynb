{
 "cells": [
  {
   "cell_type": "code",
   "execution_count": 1,
   "metadata": {},
   "outputs": [],
   "source": [
    "import preprocessing\n",
    "import pandas as pd\n",
    "import numpy as np"
   ]
  },
  {
   "cell_type": "code",
   "execution_count": 2,
   "metadata": {},
   "outputs": [],
   "source": [
    "titles_file = 'docs_titles.tsv'\n",
    "train_file = 'train_groups.csv'\n",
    "test_file = 'test_groups.csv'\n",
    "w2v_fpath = \"all.norm-sz100-w10-cb0-it1-min100.w2v\""
   ]
  },
  {
   "cell_type": "code",
   "execution_count": 3,
   "metadata": {},
   "outputs": [],
   "source": [
    "w2v = preprocessing.word2vec_model(w2v_fpath)"
   ]
  },
  {
   "cell_type": "code",
   "execution_count": 4,
   "metadata": {},
   "outputs": [],
   "source": [
    "import pickle\n",
    "with open('doc_to_title_nstemmed.pickle', 'rb') as handle:\n",
    "    doc_to_title = pickle.load(handle)"
   ]
  },
  {
   "cell_type": "code",
   "execution_count": 5,
   "metadata": {},
   "outputs": [
    {
     "data": {
      "application/vnd.jupyter.widget-view+json": {
       "model_id": "26a2734b104a4d9c9d47da4a7590385c",
       "version_major": 2,
       "version_minor": 0
      },
      "text/plain": [
       "HBox(children=(FloatProgress(value=0.0, max=28026.0), HTML(value='')))"
      ]
     },
     "metadata": {},
     "output_type": "display_data"
    },
    {
     "name": "stdout",
     "output_type": "stream",
     "text": [
      "\n"
     ]
    }
   ],
   "source": [
    "doc_to_title_nstemmed = preprocessing.get_page_dict(titles_file, stemmer_I=False)"
   ]
  },
  {
   "cell_type": "code",
   "execution_count": 6,
   "metadata": {},
   "outputs": [],
   "source": [
    "from sklearn.naive_bayes import GaussianNB, MultinomialNB\n",
    "from sklearn.ensemble import ExtraTreesClassifier, BaggingClassifier, GradientBoostingClassifier, IsolationForest, RandomForestClassifier\n",
    "from sklearn.svm import SVC\n",
    "from sklearn.svm import OneClassSVM\n",
    "from sklearn.linear_model import LogisticRegression, LinearRegression\n",
    "import xgboost as xgb"
   ]
  },
  {
   "cell_type": "code",
   "execution_count": 7,
   "metadata": {},
   "outputs": [],
   "source": [
    "f_dict = {}"
   ]
  },
  {
   "cell_type": "code",
   "execution_count": 8,
   "metadata": {},
   "outputs": [],
   "source": [
    "clf = LinearRegression()"
   ]
  },
  {
   "cell_type": "code",
   "execution_count": 9,
   "metadata": {},
   "outputs": [
    {
     "name": "stdout",
     "output_type": "stream",
     "text": [
      "preparing tf-idf matrices....\n"
     ]
    },
    {
     "data": {
      "application/vnd.jupyter.widget-view+json": {
       "model_id": "4331aec1c9c94fbd9140ed9de52fa8b9",
       "version_major": 2,
       "version_minor": 0
      },
      "text/plain": [
       "HBox(children=(FloatProgress(value=0.0, max=129.0), HTML(value='')))"
      ]
     },
     "metadata": {},
     "output_type": "display_data"
    },
    {
     "name": "stdout",
     "output_type": "stream",
     "text": [
      "\n",
      "calculating scores....\n",
      "\n",
      "threshold: 0.33333333333333337 \n",
      "f1: 0.7278605629009791\n"
     ]
    }
   ],
   "source": [
    "th, f = preprocessing.train_classifier(clf,  doc_to_title, doc_to_title_nstemmed, w2v, train_file, scaler_I='minmax')\n",
    "f_dict['lin_reg'] = f"
   ]
  },
  {
   "cell_type": "code",
   "execution_count": null,
   "metadata": {},
   "outputs": [],
   "source": [
    "lin_reg = preprocessing.predict_test(clf, th, doc_to_title, doc_to_title_nstemmed, w2v, train_file, test_file)"
   ]
  },
  {
   "cell_type": "code",
   "execution_count": null,
   "metadata": {},
   "outputs": [],
   "source": [
    "clf_base = xgb.XGBClassifier(n_estimators=200, learning_rate=0.05, n_jobs=1)\n",
    "clf = BaggingClassifier(base_estimator=clf_base, n_estimators=100, n_jobs=-1, max_features=0.7) "
   ]
  },
  {
   "cell_type": "code",
   "execution_count": null,
   "metadata": {},
   "outputs": [],
   "source": [
    "th, f = preprocessing.train_classifier(clf,  doc_to_title, doc_to_title_nstemmed, w2v, train_file)\n",
    "f_dict['xgboost-bagging'] = f"
   ]
  },
  {
   "cell_type": "code",
   "execution_count": null,
   "metadata": {},
   "outputs": [],
   "source": [
    "xgboost_bagging = preprocessing.predict_test(clf, th, doc_to_title, doc_to_title_nstemmed, w2v, train_file, test_file)"
   ]
  },
  {
   "cell_type": "code",
   "execution_count": 10,
   "metadata": {},
   "outputs": [],
   "source": [
    "clf = GradientBoostingClassifier()"
   ]
  },
  {
   "cell_type": "code",
   "execution_count": 11,
   "metadata": {},
   "outputs": [
    {
     "name": "stdout",
     "output_type": "stream",
     "text": [
      "preparing tf-idf matrices....\n"
     ]
    },
    {
     "data": {
      "application/vnd.jupyter.widget-view+json": {
       "model_id": "747e89e669da4f0180dbd045a1d595c2",
       "version_major": 2,
       "version_minor": 0
      },
      "text/plain": [
       "HBox(children=(FloatProgress(value=0.0, max=129.0), HTML(value='')))"
      ]
     },
     "metadata": {},
     "output_type": "display_data"
    },
    {
     "name": "stdout",
     "output_type": "stream",
     "text": [
      "\n",
      "calculating scores....\n",
      "\n",
      "threshold: 0.33333333333333337 \n",
      "f1: 0.7392570734172642\n"
     ]
    }
   ],
   "source": [
    "th, f = preprocessing.train_classifier(clf,  doc_to_title, doc_to_title_nstemmed, w2v, train_file)\n",
    "f_dict['xgboost'] = f"
   ]
  },
  {
   "cell_type": "code",
   "execution_count": null,
   "metadata": {},
   "outputs": [],
   "source": [
    "xgboost = preprocessing.predict_test(clf, th, doc_to_title, doc_to_title_nstemmed, w2v, train_file, test_file)"
   ]
  },
  {
   "cell_type": "code",
   "execution_count": null,
   "metadata": {},
   "outputs": [],
   "source": [
    "clf = RandomForestClassifier(n_estimators=1000, random_state=111)"
   ]
  },
  {
   "cell_type": "code",
   "execution_count": null,
   "metadata": {},
   "outputs": [],
   "source": [
    "th, f = preprocessing.train_classifier(clf,  doc_to_title, doc_to_title_nstemmed, w2v, train_file, scaler_I='minmax')\n",
    "f_dict['random_forest'] = f"
   ]
  },
  {
   "cell_type": "code",
   "execution_count": null,
   "metadata": {},
   "outputs": [],
   "source": [
    "random_forest = preprocessing.predict_test(clf, th, doc_to_title, doc_to_title_nstemmed, w2v, train_file, test_file, scaler_I='minmax')"
   ]
  },
  {
   "cell_type": "code",
   "execution_count": null,
   "metadata": {},
   "outputs": [],
   "source": []
  },
  {
   "cell_type": "code",
   "execution_count": null,
   "metadata": {},
   "outputs": [],
   "source": [
    "total_res = pd.read_csv(test_file)\n",
    "total_res['target'] = xgboost_bagging*1\n",
    "total_res[['pair_id', 'target']].to_csv('bag_boost_nmf_plus_word2vec_l.csv', index=None)"
   ]
  },
  {
   "cell_type": "code",
   "execution_count": null,
   "metadata": {},
   "outputs": [],
   "source": [
    "total_res = pd.DataFrame({\n",
    "              'xgboost-bagging': xgboost_bagging,\n",
    "              'random_forest': random_forest,\n",
    "              'lin_reg': lin_reg, \n",
    "              'logistic': logistic})"
   ]
  },
  {
   "cell_type": "code",
   "execution_count": null,
   "metadata": {},
   "outputs": [],
   "source": [
    "total_res = total_res.applymap(lambda x: 1 if x else -1)"
   ]
  },
  {
   "cell_type": "code",
   "execution_count": null,
   "metadata": {},
   "outputs": [],
   "source": [
    "res = (total_res.sum(axis=1) > 0) * 1"
   ]
  },
  {
   "cell_type": "code",
   "execution_count": null,
   "metadata": {},
   "outputs": [],
   "source": [
    "total_res = pd.read_csv(test_file)\n",
    "total_res['target'] = res"
   ]
  },
  {
   "cell_type": "code",
   "execution_count": null,
   "metadata": {},
   "outputs": [],
   "source": [
    "total_res[['pair_id', 'target']].to_csv('lets_try_many_clf.csv', index=None)"
   ]
  }
 ],
 "metadata": {
  "kernelspec": {
   "display_name": "Python 3",
   "language": "python",
   "name": "python3"
  },
  "language_info": {
   "codemirror_mode": {
    "name": "ipython",
    "version": 3
   },
   "file_extension": ".py",
   "mimetype": "text/x-python",
   "name": "python",
   "nbconvert_exporter": "python",
   "pygments_lexer": "ipython3",
   "version": "3.7.6"
  }
 },
 "nbformat": 4,
 "nbformat_minor": 2
}
