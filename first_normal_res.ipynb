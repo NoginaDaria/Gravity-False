{
 "cells": [
  {
   "cell_type": "code",
   "execution_count": 1,
   "metadata": {},
   "outputs": [],
   "source": [
    "import preprocessing\n",
    "import pandas as pd"
   ]
  },
  {
   "cell_type": "code",
   "execution_count": 2,
   "metadata": {},
   "outputs": [],
   "source": [
    "titles_file = './anomaly-detection-competition-ml1-ts-spring-2020/docs_titles.tsv/docs_titles.tsv'\n",
    "train_file = './anomaly-detection-competition-ml1-ts-spring-2020/train_groups.csv'\n",
    "test_file = './anomaly-detection-competition-ml1-ts-spring-2020/test_groups.csv'"
   ]
  },
  {
   "cell_type": "code",
   "execution_count": 3,
   "metadata": {},
   "outputs": [],
   "source": [
    "doc_to_title = preprocessing.get_page_dict(titles_file)"
   ]
  },
  {
   "cell_type": "code",
   "execution_count": 4,
   "metadata": {},
   "outputs": [],
   "source": [
    "X, y, group_ids = preprocessing.tf_idf(doc_to_title, train_file)"
   ]
  },
  {
   "cell_type": "code",
   "execution_count": 33,
   "metadata": {},
   "outputs": [],
   "source": [
    "from sklearn.naive_bayes import GaussianNB, MultinomialNB\n",
    "from sklearn.ensemble import ExtraTreesClassifier, BaggingClassifier, GradientBoostingClassifier\n",
    "from sklearn.svm import SVC\n",
    "from sklearn.svm import OneClassSVM\n",
    "from sklearn.linear_model import LogisticRegression"
   ]
  },
  {
   "cell_type": "code",
   "execution_count": 41,
   "metadata": {},
   "outputs": [],
   "source": [
    "f_dict = {}"
   ]
  },
  {
   "cell_type": "code",
   "execution_count": 42,
   "metadata": {},
   "outputs": [],
   "source": [
    "clf = GaussianNB()"
   ]
  },
  {
   "cell_type": "code",
   "execution_count": 44,
   "metadata": {},
   "outputs": [
    {
     "name": "stdout",
     "output_type": "stream",
     "text": [
      "preparing tf-idf matrices....\n",
      "calculating scores....\n",
      "\n",
      "threshold: 0.1 \n",
      "f1: 0.71829386664516\n"
     ]
    }
   ],
   "source": [
    "th, f = preprocessing.train_classifier(clf,  doc_to_title, train_file)\n",
    "f_dict['gaussian_nb'] = f"
   ]
  },
  {
   "cell_type": "code",
   "execution_count": 45,
   "metadata": {},
   "outputs": [
    {
     "name": "stdout",
     "output_type": "stream",
     "text": [
      "preparing tf-idf matrices....\n"
     ]
    }
   ],
   "source": [
    "gaussian_nb = preprocessing.predict_test(clf, th, doc_to_title, train_file, test_file)"
   ]
  },
  {
   "cell_type": "code",
   "execution_count": 46,
   "metadata": {},
   "outputs": [],
   "source": [
    "clf = BaggingClassifier(n_estimators=50, random_state=111)"
   ]
  },
  {
   "cell_type": "code",
   "execution_count": 47,
   "metadata": {},
   "outputs": [
    {
     "name": "stdout",
     "output_type": "stream",
     "text": [
      "preparing tf-idf matrices....\n",
      "calculating scores....\n",
      "\n",
      "threshold: 0.33333333333333337 \n",
      "f1: 0.7043124927568255\n"
     ]
    }
   ],
   "source": [
    "th, f = preprocessing.train_classifier(clf,  doc_to_title, train_file)\n",
    "f_dict['bagging'] = f"
   ]
  },
  {
   "cell_type": "code",
   "execution_count": 48,
   "metadata": {},
   "outputs": [
    {
     "name": "stdout",
     "output_type": "stream",
     "text": [
      "preparing tf-idf matrices....\n"
     ]
    }
   ],
   "source": [
    "bagging = preprocessing.predict_test(clf, th, doc_to_title, train_file, test_file)"
   ]
  },
  {
   "cell_type": "code",
   "execution_count": 49,
   "metadata": {},
   "outputs": [],
   "source": [
    "clf = GradientBoostingClassifier()"
   ]
  },
  {
   "cell_type": "code",
   "execution_count": 50,
   "metadata": {},
   "outputs": [
    {
     "name": "stdout",
     "output_type": "stream",
     "text": [
      "preparing tf-idf matrices....\n",
      "calculating scores....\n",
      "\n",
      "threshold: 0.3666666666666667 \n",
      "f1: 0.7171476005714545\n"
     ]
    }
   ],
   "source": [
    "th, f = preprocessing.train_classifier(clf,  doc_to_title, train_file)\n",
    "f_dict['xgboost'] = f"
   ]
  },
  {
   "cell_type": "code",
   "execution_count": 51,
   "metadata": {},
   "outputs": [
    {
     "name": "stdout",
     "output_type": "stream",
     "text": [
      "preparing tf-idf matrices....\n"
     ]
    }
   ],
   "source": [
    "xgboost = preprocessing.predict_test(clf, th, doc_to_title, train_file, test_file)"
   ]
  },
  {
   "cell_type": "code",
   "execution_count": 52,
   "metadata": {},
   "outputs": [],
   "source": [
    "clf = ExtraTreesClassifier(n_estimators=1000, random_state=111)"
   ]
  },
  {
   "cell_type": "code",
   "execution_count": 54,
   "metadata": {},
   "outputs": [
    {
     "name": "stdout",
     "output_type": "stream",
     "text": [
      "preparing tf-idf matrices....\n",
      "calculating scores....\n",
      "\n",
      "threshold: 0.4 \n",
      "f1: 0.7101494666404454\n"
     ]
    }
   ],
   "source": [
    "th, f = preprocessing.train_classifier(clf,  doc_to_title, train_file)\n",
    "f_dict['extratrees'] = f"
   ]
  },
  {
   "cell_type": "code",
   "execution_count": 55,
   "metadata": {},
   "outputs": [
    {
     "name": "stdout",
     "output_type": "stream",
     "text": [
      "preparing tf-idf matrices....\n"
     ]
    }
   ],
   "source": [
    "extratrees = preprocessing.predict_test(clf, th, doc_to_title, train_file, test_file)"
   ]
  },
  {
   "cell_type": "code",
   "execution_count": 56,
   "metadata": {},
   "outputs": [],
   "source": [
    "clf = LogisticRegression(solver='lbfgs', max_iter=1000)"
   ]
  },
  {
   "cell_type": "code",
   "execution_count": 57,
   "metadata": {},
   "outputs": [
    {
     "name": "stdout",
     "output_type": "stream",
     "text": [
      "preparing tf-idf matrices....\n",
      "calculating scores....\n",
      "\n",
      "threshold: 0.30000000000000004 \n",
      "f1: 0.719029473861281\n"
     ]
    }
   ],
   "source": [
    "th, f = preprocessing.train_classifier(clf,  doc_to_title, train_file)\n",
    "f_dict['logistic'] = f"
   ]
  },
  {
   "cell_type": "code",
   "execution_count": 58,
   "metadata": {},
   "outputs": [
    {
     "name": "stdout",
     "output_type": "stream",
     "text": [
      "preparing tf-idf matrices....\n"
     ]
    }
   ],
   "source": [
    "logistic = preprocessing.predict_test(clf, th, doc_to_title, train_file, test_file)"
   ]
  },
  {
   "cell_type": "code",
   "execution_count": 60,
   "metadata": {},
   "outputs": [],
   "source": [
    "total_res = pd.DataFrame({'gaussian_nb':gaussian_nb,\n",
    "              'bagging': bagging,\n",
    "              'xgboost': xgboost,\n",
    "              'extratrees': extratrees,\n",
    "              'logistic': logistic})"
   ]
  },
  {
   "cell_type": "code",
   "execution_count": 64,
   "metadata": {},
   "outputs": [],
   "source": [
    "total_res = total_res.applymap(lambda x: 1 if x else -1)"
   ]
  },
  {
   "cell_type": "code",
   "execution_count": 67,
   "metadata": {},
   "outputs": [],
   "source": [
    "for i in total_res.columns:\n",
    "    total_res.loc[:,i] *= f_dict.get(i)"
   ]
  },
  {
   "cell_type": "code",
   "execution_count": 78,
   "metadata": {},
   "outputs": [],
   "source": [
    "res = (total_res.mean(axis=1) > 0) * 1"
   ]
  },
  {
   "cell_type": "code",
   "execution_count": 85,
   "metadata": {},
   "outputs": [],
   "source": [
    "total_res = pd.read_csv(test_file)\n",
    "total_res['target'] = res"
   ]
  },
  {
   "cell_type": "code",
   "execution_count": 87,
   "metadata": {},
   "outputs": [],
   "source": [
    "total_res[['pair_id', 'target']].to_csv('lets_try_normal.csv', index=None)"
   ]
  },
  {
   "cell_type": "code",
   "execution_count": null,
   "metadata": {},
   "outputs": [],
   "source": []
  }
 ],
 "metadata": {
  "kernelspec": {
   "display_name": "Python 3",
   "language": "python",
   "name": "python3"
  },
  "language_info": {
   "codemirror_mode": {
    "name": "ipython",
    "version": 3
   },
   "file_extension": ".py",
   "mimetype": "text/x-python",
   "name": "python",
   "nbconvert_exporter": "python",
   "pygments_lexer": "ipython3",
   "version": "3.7.3"
  }
 },
 "nbformat": 4,
 "nbformat_minor": 2
}
