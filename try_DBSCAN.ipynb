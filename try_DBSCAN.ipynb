{
 "cells": [
  {
   "cell_type": "code",
   "execution_count": 1,
   "metadata": {},
   "outputs": [],
   "source": [
    "from tqdm import tqdm_notebook\n",
    "import pandas as pd\n",
    "import numpy as np\n",
    "import seaborn as sns"
   ]
  },
  {
   "cell_type": "code",
   "execution_count": 2,
   "metadata": {},
   "outputs": [
    {
     "name": "stdout",
     "output_type": "stream",
     "text": [
      "CPU times: user 6.3 s, sys: 2.96 s, total: 9.25 s\n",
      "Wall time: 11.8 s\n"
     ]
    }
   ],
   "source": [
    "%%time\n",
    "import pickle\n",
    "with open('page_dict.p', 'rb') as fp:\n",
    "    page_dict = pickle.load(fp)"
   ]
  },
  {
   "cell_type": "code",
   "execution_count": 3,
   "metadata": {},
   "outputs": [],
   "source": [
    "from sklearn.feature_extraction.text import TfidfVectorizer"
   ]
  },
  {
   "cell_type": "code",
   "execution_count": 4,
   "metadata": {},
   "outputs": [],
   "source": [
    "train_data = pd.read_csv('./anomaly-detection-competition-ml1-ts-spring-2020/train_groups.csv')"
   ]
  },
  {
   "cell_type": "code",
   "execution_count": 5,
   "metadata": {},
   "outputs": [],
   "source": [
    "test_data = pd.read_csv('./anomaly-detection-competition-ml1-ts-spring-2020/test_groups.csv')"
   ]
  },
  {
   "cell_type": "code",
   "execution_count": 6,
   "metadata": {
    "scrolled": true
   },
   "outputs": [
    {
     "data": {
      "application/vnd.jupyter.widget-view+json": {
       "model_id": "8f14b7d319c0426cbca2f4368085c4eb",
       "version_major": 2,
       "version_minor": 0
      },
      "text/plain": [
       "HBox(children=(IntProgress(value=0, max=129), HTML(value='')))"
      ]
     },
     "metadata": {},
     "output_type": "display_data"
    },
    {
     "name": "stdout",
     "output_type": "stream",
     "text": [
      "(102, 300)\n",
      "(94, 300)\n",
      "(98, 300)\n",
      "(88, 300)\n",
      "(108, 300)\n",
      "(71, 300)\n",
      "(96, 300)\n",
      "(91, 300)\n",
      "(31, 300)\n",
      "(97, 300)\n",
      "(98, 300)\n",
      "(65, 300)\n",
      "(31, 300)\n",
      "(92, 300)\n",
      "(101, 300)\n",
      "(94, 300)\n",
      "(102, 300)\n",
      "(89, 300)\n",
      "(90, 300)\n",
      "(95, 300)\n",
      "(100, 300)\n",
      "(87, 300)\n",
      "(93, 300)\n",
      "(102, 300)\n",
      "(84, 300)\n",
      "(79, 300)\n",
      "(100, 300)\n",
      "(91, 300)\n",
      "(99, 300)\n",
      "(104, 300)\n",
      "(95, 300)\n",
      "(105, 300)\n",
      "(93, 300)\n",
      "(98, 300)\n",
      "(99, 300)\n",
      "(103, 300)\n",
      "(58, 300)\n",
      "(104, 300)\n",
      "(99, 300)\n",
      "(98, 300)\n",
      "(65, 300)\n",
      "(103, 300)\n",
      "(93, 300)\n",
      "(88, 300)\n",
      "(83, 300)\n",
      "(97, 300)\n",
      "(94, 300)\n",
      "(55, 300)\n",
      "(100, 300)\n",
      "(88, 300)\n",
      "(100, 300)\n",
      "(99, 300)\n",
      "(26, 300)\n",
      "(100, 300)\n",
      "(95, 300)\n",
      "(92, 300)\n",
      "(88, 300)\n",
      "(98, 300)\n",
      "(103, 300)\n",
      "(81, 300)\n",
      "(93, 300)\n",
      "(105, 300)\n",
      "(86, 300)\n",
      "(96, 300)\n",
      "(92, 300)\n",
      "(91, 300)\n",
      "(92, 300)\n",
      "(104, 300)\n",
      "(104, 300)\n",
      "(102, 300)\n",
      "(90, 300)\n",
      "(83, 300)\n",
      "(102, 300)\n",
      "(102, 300)\n",
      "(104, 300)\n",
      "(49, 300)\n",
      "(100, 300)\n",
      "(96, 300)\n",
      "(100, 300)\n",
      "(58, 300)\n",
      "(100, 300)\n",
      "(95, 300)\n",
      "(52, 300)\n",
      "(103, 300)\n",
      "(102, 300)\n",
      "(101, 300)\n",
      "(67, 300)\n",
      "(43, 300)\n",
      "(90, 300)\n",
      "(100, 300)\n",
      "(47, 300)\n",
      "(102, 300)\n",
      "(104, 300)\n",
      "(103, 300)\n",
      "(99, 300)\n",
      "(97, 300)\n",
      "(94, 300)\n",
      "(100, 300)\n",
      "(103, 300)\n",
      "(77, 300)\n",
      "(101, 300)\n",
      "(106, 300)\n",
      "(102, 300)\n",
      "(104, 300)\n",
      "(88, 300)\n",
      "(101, 300)\n",
      "(93, 300)\n",
      "(95, 300)\n",
      "(107, 300)\n",
      "(103, 300)\n",
      "(100, 300)\n",
      "(105, 300)\n",
      "(105, 300)\n",
      "(81, 300)\n",
      "(61, 300)\n",
      "(93, 300)\n",
      "(107, 300)\n",
      "(94, 300)\n",
      "(77, 300)\n",
      "(40, 300)\n",
      "(99, 300)\n",
      "(94, 300)\n",
      "(88, 300)\n",
      "(107, 300)\n",
      "(94, 300)\n",
      "(103, 300)\n",
      "(101, 300)\n",
      "(50, 300)\n",
      "(91, 300)\n",
      "\n"
     ]
    }
   ],
   "source": [
    "all_vectors_train = []\n",
    "for group in tqdm_notebook(train_data.group_id.unique()):\n",
    "    texts = []\n",
    "    for i in train_data[train_data['group_id'] == group].doc_id:\n",
    "        texts.append(page_dict.get(i))\n",
    "    vectorizer = TfidfVectorizer(max_features=300)\n",
    "    vectors = vectorizer.fit_transform(texts)\n",
    "    print(vectors.shape)\n",
    "    all_vectors_train.append(vectors)"
   ]
  },
  {
   "cell_type": "code",
   "execution_count": 7,
   "metadata": {},
   "outputs": [],
   "source": [
    "d_train = dict(zip(train_data.group_id.unique(), all_vectors_train))"
   ]
  },
  {
   "cell_type": "code",
   "execution_count": 8,
   "metadata": {},
   "outputs": [],
   "source": [
    "from sklearn.cluster import DBSCAN"
   ]
  },
  {
   "cell_type": "code",
   "execution_count": 76,
   "metadata": {},
   "outputs": [],
   "source": [
    "clustering = DBSCAN(eps=0.2, min_samples=3, metric='cosine').fit_predict(d_train.get(5))"
   ]
  },
  {
   "cell_type": "code",
   "execution_count": 77,
   "metadata": {},
   "outputs": [
    {
     "data": {
      "text/plain": [
       "array([-1, -1,  0,  0, -1,  1,  0, -1, -1,  0, -1,  0, -1, -1,  0, -1, -1,\n",
       "       -1,  1, -1,  0, -1, -1, -1, -1, -1, -1, -1, -1, -1,  1,  0, -1,  0,\n",
       "       -1, -1, -1, -1,  0,  0,  1, -1,  0, -1, -1,  0, -1,  0, -1,  2,  0,\n",
       "       -1,  1,  2, -1,  0,  0,  2, -1, -1,  0, -1,  0,  0, -1,  1,  0, -1,\n",
       "       -1, -1, -1,  0, -1,  0,  0,  0, -1,  0, -1,  0, -1, -1, -1, -1,  0,\n",
       "       -1, -1,  0, -1,  0,  1,  1, -1, -1,  0, -1, -1, -1, -1,  0,  0, -1,\n",
       "       -1, -1,  0,  0,  0, -1])"
      ]
     },
     "execution_count": 77,
     "metadata": {},
     "output_type": "execute_result"
    }
   ],
   "source": [
    "clustering"
   ]
  },
  {
   "cell_type": "code",
   "execution_count": 78,
   "metadata": {},
   "outputs": [],
   "source": [
    "import umap\n",
    "import matplotlib.pyplot as plt"
   ]
  },
  {
   "cell_type": "code",
   "execution_count": 79,
   "metadata": {},
   "outputs": [
    {
     "data": {
      "text/plain": [
       "<matplotlib.axes._subplots.AxesSubplot at 0x1b226604a8>"
      ]
     },
     "execution_count": 79,
     "metadata": {},
     "output_type": "execute_result"
    },
    {
     "data": {
      "image/png": "[encoded data removed]",
      "text/plain": [
       "<Figure size 1080x720 with 2 Axes>"
      ]
     },
     "metadata": {
      "needs_background": "light"
     },
     "output_type": "display_data"
    }
   ],
   "source": [
    "a = 5\n",
    "plt.figure(figsize=(15,10))\n",
    "mapper = umap.UMAP(metric='cosine', n_neighbors=7)\n",
    "umap_res = mapper.fit_transform(d_train.get(a))\n",
    "umap_res = pd.DataFrame(umap_res)\n",
    "umap_res['target'] = list(train_data[train_data['group_id'] == a]['target'])\n",
    "plt.subplot(1,2,1)\n",
    "sns.scatterplot(data = pd.DataFrame(umap_res), x=0, y=1, hue='target')\n",
    "umap_res['target'] = clustering\n",
    "plt.subplot(1,2,2)\n",
    "sns.scatterplot(data = pd.DataFrame(umap_res), x=0, y=1, hue='target')"
   ]
  },
  {
   "cell_type": "code",
   "execution_count": null,
   "metadata": {},
   "outputs": [],
   "source": []
  }
 ],
 "metadata": {
  "kernelspec": {
   "display_name": "Python 3",
   "language": "python",
   "name": "python3"
  },
  "language_info": {
   "codemirror_mode": {
    "name": "ipython",
    "version": 3
   },
   "file_extension": ".py",
   "mimetype": "text/x-python",
   "name": "python",
   "nbconvert_exporter": "python",
   "pygments_lexer": "ipython3",
   "version": "3.7.3"
  }
 },
 "nbformat": 4,
 "nbformat_minor": 2
}
